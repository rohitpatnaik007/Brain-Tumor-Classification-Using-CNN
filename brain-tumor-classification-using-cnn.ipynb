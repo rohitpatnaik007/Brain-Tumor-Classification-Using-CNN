{
 "cells": [
  {
   "cell_type": "code",
   "execution_count": 1,
   "metadata": {
    "_cell_guid": "b1076dfc-b9ad-4769-8c92-a6c4dae69d19",
    "_uuid": "8f2839f25d086af736a60e9eeb907d3b93b6e0e5",
    "execution": {
     "iopub.execute_input": "2024-10-28T18:35:15.499390Z",
     "iopub.status.busy": "2024-10-28T18:35:15.499002Z",
     "iopub.status.idle": "2024-10-28T18:35:28.312334Z",
     "shell.execute_reply": "2024-10-28T18:35:28.311345Z",
     "shell.execute_reply.started": "2024-10-28T18:35:15.499353Z"
    },
    "trusted": true
   },
   "outputs": [],
   "source": [
    "import os\n",
    "import numpy as np\n",
    "import pandas as pd\n",
    "import matplotlib.pyplot as plt\n",
    "\n",
    "from sklearn.model_selection import train_test_split\n",
    "\n",
    "from tensorflow.keras.models import Sequential\n",
    "from tensorflow.keras.layers import Conv2D, MaxPooling2D, Flatten, Dense\n",
    "from tensorflow.keras.optimizers import Adamax\n",
    "from tensorflow.keras.preprocessing.image import ImageDataGenerator\n",
    "\n",
    "from sklearn.metrics import classification_report, confusion_matrix"
   ]
  },
  {
   "cell_type": "code",
   "execution_count": 2,
   "metadata": {
    "execution": {
     "iopub.execute_input": "2024-10-28T18:35:28.314662Z",
     "iopub.status.busy": "2024-10-28T18:35:28.314130Z",
     "iopub.status.idle": "2024-10-28T18:35:29.062515Z",
     "shell.execute_reply": "2024-10-28T18:35:29.061502Z",
     "shell.execute_reply.started": "2024-10-28T18:35:28.314628Z"
    },
    "trusted": true
   },
   "outputs": [
    {
     "data": {
      "text/html": [
       "<div>\n",
       "<style scoped>\n",
       "    .dataframe tbody tr th:only-of-type {\n",
       "        vertical-align: middle;\n",
       "    }\n",
       "\n",
       "    .dataframe tbody tr th {\n",
       "        vertical-align: top;\n",
       "    }\n",
       "\n",
       "    .dataframe thead th {\n",
       "        text-align: right;\n",
       "    }\n",
       "</style>\n",
       "<table border=\"1\" class=\"dataframe\">\n",
       "  <thead>\n",
       "    <tr style=\"text-align: right;\">\n",
       "      <th></th>\n",
       "      <th>Filepaths</th>\n",
       "      <th>Labels</th>\n",
       "    </tr>\n",
       "  </thead>\n",
       "  <tbody>\n",
       "    <tr>\n",
       "      <th>0</th>\n",
       "      <td>Data/Training\\glioma\\Tr-glTr_0000.jpg</td>\n",
       "      <td>glioma</td>\n",
       "    </tr>\n",
       "    <tr>\n",
       "      <th>1</th>\n",
       "      <td>Data/Training\\glioma\\Tr-glTr_0001.jpg</td>\n",
       "      <td>glioma</td>\n",
       "    </tr>\n",
       "    <tr>\n",
       "      <th>2</th>\n",
       "      <td>Data/Training\\glioma\\Tr-glTr_0002.jpg</td>\n",
       "      <td>glioma</td>\n",
       "    </tr>\n",
       "    <tr>\n",
       "      <th>3</th>\n",
       "      <td>Data/Training\\glioma\\Tr-glTr_0003.jpg</td>\n",
       "      <td>glioma</td>\n",
       "    </tr>\n",
       "    <tr>\n",
       "      <th>4</th>\n",
       "      <td>Data/Training\\glioma\\Tr-glTr_0004.jpg</td>\n",
       "      <td>glioma</td>\n",
       "    </tr>\n",
       "    <tr>\n",
       "      <th>...</th>\n",
       "      <td>...</td>\n",
       "      <td>...</td>\n",
       "    </tr>\n",
       "    <tr>\n",
       "      <th>5707</th>\n",
       "      <td>Data/Training\\pituitary\\Tr-pi_1452.jpg</td>\n",
       "      <td>pituitary</td>\n",
       "    </tr>\n",
       "    <tr>\n",
       "      <th>5708</th>\n",
       "      <td>Data/Training\\pituitary\\Tr-pi_1453.jpg</td>\n",
       "      <td>pituitary</td>\n",
       "    </tr>\n",
       "    <tr>\n",
       "      <th>5709</th>\n",
       "      <td>Data/Training\\pituitary\\Tr-pi_1454.jpg</td>\n",
       "      <td>pituitary</td>\n",
       "    </tr>\n",
       "    <tr>\n",
       "      <th>5710</th>\n",
       "      <td>Data/Training\\pituitary\\Tr-pi_1455.jpg</td>\n",
       "      <td>pituitary</td>\n",
       "    </tr>\n",
       "    <tr>\n",
       "      <th>5711</th>\n",
       "      <td>Data/Training\\pituitary\\Tr-pi_1456.jpg</td>\n",
       "      <td>pituitary</td>\n",
       "    </tr>\n",
       "  </tbody>\n",
       "</table>\n",
       "<p>5712 rows × 2 columns</p>\n",
       "</div>"
      ],
      "text/plain": [
       "                                   Filepaths     Labels\n",
       "0      Data/Training\\glioma\\Tr-glTr_0000.jpg     glioma\n",
       "1      Data/Training\\glioma\\Tr-glTr_0001.jpg     glioma\n",
       "2      Data/Training\\glioma\\Tr-glTr_0002.jpg     glioma\n",
       "3      Data/Training\\glioma\\Tr-glTr_0003.jpg     glioma\n",
       "4      Data/Training\\glioma\\Tr-glTr_0004.jpg     glioma\n",
       "...                                      ...        ...\n",
       "5707  Data/Training\\pituitary\\Tr-pi_1452.jpg  pituitary\n",
       "5708  Data/Training\\pituitary\\Tr-pi_1453.jpg  pituitary\n",
       "5709  Data/Training\\pituitary\\Tr-pi_1454.jpg  pituitary\n",
       "5710  Data/Training\\pituitary\\Tr-pi_1455.jpg  pituitary\n",
       "5711  Data/Training\\pituitary\\Tr-pi_1456.jpg  pituitary\n",
       "\n",
       "[5712 rows x 2 columns]"
      ]
     },
     "execution_count": 2,
     "metadata": {},
     "output_type": "execute_result"
    }
   ],
   "source": [
    "train_dir = 'Data/Training'\n",
    "\n",
    "filepaths = []\n",
    "labels = []\n",
    "\n",
    "folds = os.listdir(train_dir)\n",
    "\n",
    "for fold in folds:\n",
    "    foldpath =os.path.join(train_dir, fold)\n",
    "    \n",
    "    files = os.listdir(foldpath)\n",
    "    for f in files:\n",
    "        fpath = os.path.join(foldpath, f)\n",
    "        \n",
    "        filepaths.append(fpath)\n",
    "        labels.append(fold)\n",
    "train_df = pd.DataFrame(data = {'Filepaths':filepaths,'Labels':labels})\n",
    "train_df"
   ]
  },
  {
   "cell_type": "code",
   "execution_count": 7,
   "metadata": {
    "execution": {
     "iopub.execute_input": "2024-10-28T18:35:29.065475Z",
     "iopub.status.busy": "2024-10-28T18:35:29.064828Z",
     "iopub.status.idle": "2024-10-28T18:35:29.349289Z",
     "shell.execute_reply": "2024-10-28T18:35:29.348396Z",
     "shell.execute_reply.started": "2024-10-28T18:35:29.065441Z"
    },
    "trusted": true
   },
   "outputs": [
    {
     "data": {
      "text/html": [
       "<div>\n",
       "<style scoped>\n",
       "    .dataframe tbody tr th:only-of-type {\n",
       "        vertical-align: middle;\n",
       "    }\n",
       "\n",
       "    .dataframe tbody tr th {\n",
       "        vertical-align: top;\n",
       "    }\n",
       "\n",
       "    .dataframe thead th {\n",
       "        text-align: right;\n",
       "    }\n",
       "</style>\n",
       "<table border=\"1\" class=\"dataframe\">\n",
       "  <thead>\n",
       "    <tr style=\"text-align: right;\">\n",
       "      <th></th>\n",
       "      <th>Filepaths</th>\n",
       "      <th>Labels</th>\n",
       "    </tr>\n",
       "  </thead>\n",
       "  <tbody>\n",
       "    <tr>\n",
       "      <th>0</th>\n",
       "      <td>Data/Testing\\glioma\\Te-glTr_0000.jpg</td>\n",
       "      <td>glioma</td>\n",
       "    </tr>\n",
       "    <tr>\n",
       "      <th>1</th>\n",
       "      <td>Data/Testing\\glioma\\Te-glTr_0001.jpg</td>\n",
       "      <td>glioma</td>\n",
       "    </tr>\n",
       "    <tr>\n",
       "      <th>2</th>\n",
       "      <td>Data/Testing\\glioma\\Te-glTr_0002.jpg</td>\n",
       "      <td>glioma</td>\n",
       "    </tr>\n",
       "    <tr>\n",
       "      <th>3</th>\n",
       "      <td>Data/Testing\\glioma\\Te-glTr_0003.jpg</td>\n",
       "      <td>glioma</td>\n",
       "    </tr>\n",
       "    <tr>\n",
       "      <th>4</th>\n",
       "      <td>Data/Testing\\glioma\\Te-glTr_0004.jpg</td>\n",
       "      <td>glioma</td>\n",
       "    </tr>\n",
       "    <tr>\n",
       "      <th>...</th>\n",
       "      <td>...</td>\n",
       "      <td>...</td>\n",
       "    </tr>\n",
       "    <tr>\n",
       "      <th>1306</th>\n",
       "      <td>Data/Testing\\pituitary\\Te-pi_0295.jpg</td>\n",
       "      <td>pituitary</td>\n",
       "    </tr>\n",
       "    <tr>\n",
       "      <th>1307</th>\n",
       "      <td>Data/Testing\\pituitary\\Te-pi_0296.jpg</td>\n",
       "      <td>pituitary</td>\n",
       "    </tr>\n",
       "    <tr>\n",
       "      <th>1308</th>\n",
       "      <td>Data/Testing\\pituitary\\Te-pi_0297.jpg</td>\n",
       "      <td>pituitary</td>\n",
       "    </tr>\n",
       "    <tr>\n",
       "      <th>1309</th>\n",
       "      <td>Data/Testing\\pituitary\\Te-pi_0298.jpg</td>\n",
       "      <td>pituitary</td>\n",
       "    </tr>\n",
       "    <tr>\n",
       "      <th>1310</th>\n",
       "      <td>Data/Testing\\pituitary\\Te-pi_0299.jpg</td>\n",
       "      <td>pituitary</td>\n",
       "    </tr>\n",
       "  </tbody>\n",
       "</table>\n",
       "<p>1311 rows × 2 columns</p>\n",
       "</div>"
      ],
      "text/plain": [
       "                                  Filepaths     Labels\n",
       "0      Data/Testing\\glioma\\Te-glTr_0000.jpg     glioma\n",
       "1      Data/Testing\\glioma\\Te-glTr_0001.jpg     glioma\n",
       "2      Data/Testing\\glioma\\Te-glTr_0002.jpg     glioma\n",
       "3      Data/Testing\\glioma\\Te-glTr_0003.jpg     glioma\n",
       "4      Data/Testing\\glioma\\Te-glTr_0004.jpg     glioma\n",
       "...                                     ...        ...\n",
       "1306  Data/Testing\\pituitary\\Te-pi_0295.jpg  pituitary\n",
       "1307  Data/Testing\\pituitary\\Te-pi_0296.jpg  pituitary\n",
       "1308  Data/Testing\\pituitary\\Te-pi_0297.jpg  pituitary\n",
       "1309  Data/Testing\\pituitary\\Te-pi_0298.jpg  pituitary\n",
       "1310  Data/Testing\\pituitary\\Te-pi_0299.jpg  pituitary\n",
       "\n",
       "[1311 rows x 2 columns]"
      ]
     },
     "execution_count": 7,
     "metadata": {},
     "output_type": "execute_result"
    }
   ],
   "source": [
    "test_dir = 'Data/Testing'\n",
    "\n",
    "filepaths = []\n",
    "labels = []\n",
    "\n",
    "folds = os.listdir(test_dir)\n",
    "\n",
    "for fold in folds:\n",
    "    foldpath =os.path.join(test_dir, fold)\n",
    "    \n",
    "    files = os.listdir(foldpath)\n",
    "    for f in files:\n",
    "        fpath = os.path.join(foldpath, f)\n",
    "        \n",
    "        filepaths.append(fpath)\n",
    "        labels.append(fold)\n",
    "ts_df = pd.DataFrame(data = {'Filepaths':filepaths,'Labels':labels})\n",
    "ts_df"
   ]
  },
  {
   "cell_type": "code",
   "execution_count": 8,
   "metadata": {
    "execution": {
     "iopub.execute_input": "2024-10-28T18:35:29.351542Z",
     "iopub.status.busy": "2024-10-28T18:35:29.351247Z",
     "iopub.status.idle": "2024-10-28T18:35:29.358315Z",
     "shell.execute_reply": "2024-10-28T18:35:29.357322Z",
     "shell.execute_reply.started": "2024-10-28T18:35:29.351511Z"
    },
    "trusted": true
   },
   "outputs": [],
   "source": [
    "valid_df, test_Df = train_test_split(ts_df,test_size=0.5,random_state=42)"
   ]
  },
  {
   "cell_type": "code",
   "execution_count": 9,
   "metadata": {
    "execution": {
     "iopub.execute_input": "2024-10-28T18:35:29.359860Z",
     "iopub.status.busy": "2024-10-28T18:35:29.359500Z",
     "iopub.status.idle": "2024-10-28T18:35:34.474366Z",
     "shell.execute_reply": "2024-10-28T18:35:34.473246Z",
     "shell.execute_reply.started": "2024-10-28T18:35:29.359816Z"
    },
    "trusted": true
   },
   "outputs": [
    {
     "name": "stdout",
     "output_type": "stream",
     "text": [
      "Found 5712 validated image filenames belonging to 4 classes.\n",
      "Found 655 validated image filenames belonging to 4 classes.\n",
      "Found 656 validated image filenames belonging to 4 classes.\n"
     ]
    }
   ],
   "source": [
    "gen = ImageDataGenerator()\n",
    "\n",
    "train_gen = gen.flow_from_dataframe(train_df, x_col='Filepaths', y_col='Labels', target_size=(224, 224),\n",
    "                                   color_mode='rgb', class_mode='categorical' , batch_size=32)\n",
    "\n",
    "valid_gen = gen.flow_from_dataframe(valid_df, x_col='Filepaths', y_col='Labels', target_size=(224, 224),\n",
    "                                   color_mode='rgb', class_mode='categorical' , batch_size=32)\n",
    "\n",
    "test_gen = gen.flow_from_dataframe(test_Df, x_col='Filepaths', y_col='Labels', target_size=(224, 224),\n",
    "                                   color_mode='rgb', class_mode='categorical' , batch_size=32)"
   ]
  },
  {
   "cell_type": "code",
   "execution_count": 10,
   "metadata": {
    "execution": {
     "iopub.execute_input": "2024-10-28T18:35:34.476805Z",
     "iopub.status.busy": "2024-10-28T18:35:34.475847Z",
     "iopub.status.idle": "2024-10-28T18:35:35.217440Z",
     "shell.execute_reply": "2024-10-28T18:35:35.216677Z",
     "shell.execute_reply.started": "2024-10-28T18:35:34.476770Z"
    },
    "trusted": true
   },
   "outputs": [
    {
     "name": "stderr",
     "output_type": "stream",
     "text": [
      "c:\\Users\\rohit\\Desktop\\Project\\project\\Lib\\site-packages\\keras\\src\\layers\\convolutional\\base_conv.py:107: UserWarning: Do not pass an `input_shape`/`input_dim` argument to a layer. When using Sequential models, prefer using an `Input(shape)` object as the first layer in the model instead.\n",
      "  super().__init__(activity_regularizer=activity_regularizer, **kwargs)\n"
     ]
    }
   ],
   "source": [
    "model = Sequential([\n",
    "    Conv2D(1024, kernel_size=(3,3), activation='relu', input_shape=(224,224,3)),\n",
    "    MaxPooling2D((2,2)),\n",
    "    \n",
    "    Conv2D(512, kernel_size=(3,3), activation='relu'),\n",
    "    MaxPooling2D ((2,2)),\n",
    "    \n",
    "    Conv2D(256, kernel_size=(3,3), activation='relu'),\n",
    "    Conv2D(128, kernel_size=(3,3), activation='relu'),\n",
    "    MaxPooling2D((2,2)),\n",
    "    \n",
    "    Conv2D(64, kernel_size=(3,3), activation='relu'),\n",
    "    MaxPooling2D((2,2)),\n",
    "    \n",
    "    Flatten(),\n",
    "    \n",
    "    Dense(256, activation='relu'),\n",
    "    Dense(128, activation='relu'),\n",
    "    \n",
    "    Dense(4, activation='softmax')\n",
    "\n",
    "])\n",
    "model.compile(optimizer=Adamax(learning_rate=0.001),loss='categorical_crossentropy',metrics=['accuracy'])"
   ]
  },
  {
   "cell_type": "code",
   "execution_count": null,
   "metadata": {
    "execution": {
     "iopub.execute_input": "2024-10-28T18:35:35.218869Z",
     "iopub.status.busy": "2024-10-28T18:35:35.218569Z",
     "iopub.status.idle": "2024-10-28T19:08:01.264225Z",
     "shell.execute_reply": "2024-10-28T19:08:01.263395Z",
     "shell.execute_reply.started": "2024-10-28T18:35:35.218837Z"
    },
    "trusted": true
   },
   "outputs": [
    {
     "name": "stderr",
     "output_type": "stream",
     "text": [
      "c:\\Users\\rohit\\Desktop\\Project\\project\\Lib\\site-packages\\keras\\src\\trainers\\data_adapters\\py_dataset_adapter.py:121: UserWarning: Your `PyDataset` class should call `super().__init__(**kwargs)` in its constructor. `**kwargs` can include `workers`, `use_multiprocessing`, `max_queue_size`. Do not pass these arguments to `fit()`, as they will be ignored.\n",
      "  self._warn_if_super_not_called()\n"
     ]
    },
    {
     "name": "stdout",
     "output_type": "stream",
     "text": [
      "Epoch 1/15\n",
      "\u001b[1m  2/179\u001b[0m \u001b[37m━━━━━━━━━━━━━━━━━━━━\u001b[0m \u001b[1m7:52:05\u001b[0m 160s/step - accuracy: 0.1797 - loss: 56.9835"
     ]
    }
   ],
   "source": [
    "history = model.fit(train_gen, validation_data= valid_gen, epochs=15)"
   ]
  },
  {
   "cell_type": "code",
   "execution_count": 9,
   "metadata": {
    "execution": {
     "iopub.execute_input": "2024-10-28T19:08:01.265779Z",
     "iopub.status.busy": "2024-10-28T19:08:01.265481Z",
     "iopub.status.idle": "2024-10-28T19:08:47.131275Z",
     "shell.execute_reply": "2024-10-28T19:08:47.130338Z",
     "shell.execute_reply.started": "2024-10-28T19:08:01.265747Z"
    },
    "trusted": true
   },
   "outputs": [
    {
     "name": "stdout",
     "output_type": "stream",
     "text": [
      "\u001b[1m179/179\u001b[0m \u001b[32m━━━━━━━━━━━━━━━━━━━━\u001b[0m\u001b[37m\u001b[0m \u001b[1m36s\u001b[0m 200ms/step - accuracy: 0.9957 - loss: 0.0119\n",
      "\u001b[1m21/21\u001b[0m \u001b[32m━━━━━━━━━━━━━━━━━━━━\u001b[0m\u001b[37m\u001b[0m \u001b[1m4s\u001b[0m 194ms/step - accuracy: 0.9772 - loss: 0.0914\n",
      "\u001b[1m21/21\u001b[0m \u001b[32m━━━━━━━━━━━━━━━━━━━━\u001b[0m\u001b[37m\u001b[0m \u001b[1m5s\u001b[0m 230ms/step - accuracy: 0.9380 - loss: 0.2983\n",
      "Train Loss:  0.012088516727089882\n",
      "Train Accuracy:  0.9961484670639038\n",
      "--------------------\n",
      "Validation Loss:  0.09911022335290909\n",
      "Validation Accuracy:  0.981679379940033\n",
      "--------------------\n",
      "Test Loss:  0.21721814572811127\n",
      "Test Accuracy:  0.9542682766914368\n"
     ]
    }
   ],
   "source": [
    "train_score = model.evaluate(train_gen)\n",
    "valid_score = model.evaluate(valid_gen)\n",
    "test_score = model.evaluate(test_gen)\n",
    "\n",
    "print(\"Train Loss: \", train_score[0])\n",
    "print(\"Train Accuracy: \", train_score[1])\n",
    "print('-' * 20)\n",
    "print(\"Validation Loss: \", valid_score[0])\n",
    "print(\"Validation Accuracy: \", valid_score[1])\n",
    "print('-' * 20)\n",
    "print(\"Test Loss: \", test_score[0])\n",
    "print(\"Test Accuracy: \", test_score[1])"
   ]
  }
 ],
 "metadata": {
  "kaggle": {
   "accelerator": "gpu",
   "dataSources": [
    {
     "datasetId": 1608934,
     "sourceId": 2645886,
     "sourceType": "datasetVersion"
    }
   ],
   "dockerImageVersionId": 30787,
   "isGpuEnabled": true,
   "isInternetEnabled": true,
   "language": "python",
   "sourceType": "notebook"
  },
  "kernelspec": {
   "display_name": "project",
   "language": "python",
   "name": "python3"
  },
  "language_info": {
   "codemirror_mode": {
    "name": "ipython",
    "version": 3
   },
   "file_extension": ".py",
   "mimetype": "text/x-python",
   "name": "python",
   "nbconvert_exporter": "python",
   "pygments_lexer": "ipython3",
   "version": "3.11.8"
  }
 },
 "nbformat": 4,
 "nbformat_minor": 4
}
